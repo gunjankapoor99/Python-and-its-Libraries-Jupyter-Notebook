{
 "cells": [
  {
   "cell_type": "code",
   "execution_count": 1,
   "metadata": {},
   "outputs": [
    {
     "name": "stdout",
     "output_type": "stream",
     "text": [
      "hello\n"
     ]
    }
   ],
   "source": [
    "exec(\"print('hello')\")"
   ]
  },
  {
   "cell_type": "code",
   "execution_count": 2,
   "metadata": {},
   "outputs": [
    {
     "name": "stdout",
     "output_type": "stream",
     "text": [
      "enter a variable name: var\n",
      "enter a value50\n",
      "var: 50\n"
     ]
    }
   ],
   "source": [
    "varname = input('enter a variable name: ')\n",
    "exec(f\"{varname} = int(input('enter a value'))\")\n",
    "print(f\"{varname}:\", locals()[varname])"
   ]
  },
  {
   "cell_type": "code",
   "execution_count": 3,
   "metadata": {},
   "outputs": [
    {
     "name": "stdout",
     "output_type": "stream",
     "text": [
      "enter a number: 4\n",
      "even\n"
     ]
    }
   ],
   "source": [
    "n = int(input('enter a number: '))\n",
    "if n & 1 == 0:\n",
    "    print('even')\n",
    "else:\n",
    "    print('odd')"
   ]
  },
  {
   "cell_type": "code",
   "execution_count": 4,
   "metadata": {},
   "outputs": [
    {
     "name": "stdout",
     "output_type": "stream",
     "text": [
      "20 10\n"
     ]
    }
   ],
   "source": [
    "a,b = 10,20\n",
    "# wrought to technique is not allowed i.e a,b = b,a\n",
    "a = a^b\n",
    "b = a^b\n",
    "a = a^b\n",
    "print(a,b)"
   ]
  },
  {
   "cell_type": "code",
   "execution_count": 5,
   "metadata": {},
   "outputs": [
    {
     "name": "stdout",
     "output_type": "stream",
     "text": [
      "128\n",
      "4\n"
     ]
    }
   ],
   "source": [
    "x = 16\n",
    "# left shift operator used for (x*2^3)\n",
    "print(x<<3)\n",
    "# right shift operator used for (x/2^3)\n",
    "print(x>>2)"
   ]
  },
  {
   "cell_type": "code",
   "execution_count": 6,
   "metadata": {},
   "outputs": [
    {
     "name": "stdout",
     "output_type": "stream",
     "text": [
      "enter a string: wel\n",
      "[0, 0, 0, 0, 1, 0, 0, 0, 0, 0, 0, 1, 0, 0, 0, 0, 0, 0, 0, 0, 0, 0, 1, 0, 0, 0]\n",
      "e 1\n",
      "l 1\n",
      "w 1\n",
      "\n",
      "w 1\n",
      "e 1\n",
      "l 1\n"
     ]
    }
   ],
   "source": [
    "# frequency of characters in a string\n",
    "import string\n",
    "s = input('enter a string: ').lower()\n",
    "li = [0]*26\n",
    "for i in s:\n",
    "    if i in string.ascii_letters:\n",
    "        li[ord(i)-97] += 1\n",
    "print(li)\n",
    "for i in range(len(li)):\n",
    "    if li[i]!=0:\n",
    "        print(chr(i+97),li[i])\n",
    "print()\n",
    "# to print in order\n",
    "for i in s:\n",
    "    if li[ord(i)-97]!=0:\n",
    "        print(i,li[ord(i)-97])\n",
    "        # for not getting a alphabet twice\n",
    "        li[ord(i)-97]=0"
   ]
  },
  {
   "cell_type": "code",
   "execution_count": 7,
   "metadata": {},
   "outputs": [
    {
     "name": "stdout",
     "output_type": "stream",
     "text": [
      "enter a string: wel\n",
      "[0, 0, 0, 0, 1, 0, 0, 0, 0, 0, 0, 1, 0, 0, 0, 0, 0, 0, 0, 0, 0, 0, 1, 0, 0, 0]\n",
      "3\n"
     ]
    }
   ],
   "source": [
    "import string\n",
    "count = 0\n",
    "s = input('enter a string: ').lower()\n",
    "li = [0]*26\n",
    "for i in s:\n",
    "    if i in string.ascii_letters:\n",
    "        li[ord(i)-97] += 1\n",
    "print(li)\n",
    "for i in li:\n",
    "    if i == 1:\n",
    "        count+=1\n",
    "print(count)"
   ]
  },
  {
   "cell_type": "code",
   "execution_count": 8,
   "metadata": {},
   "outputs": [
    {
     "name": "stdout",
     "output_type": "stream",
     "text": [
      "enter a string: wel\n",
      "[0, 0, 0, 0, 1, 0, 0, 0, 0, 0, 0, 1, 0, 0, 0, 0, 0, 0, 0, 0, 0, 0, 1, 0, 0, 0]\n",
      "not pangram\n"
     ]
    }
   ],
   "source": [
    "import string\n",
    "count = 0\n",
    "s = input('enter a string: ').lower()\n",
    "li = [0]*26\n",
    "for i in s:\n",
    "    if i in string.ascii_letters:\n",
    "        li[ord(i)-97] += 1\n",
    "print(li)\n",
    "for i in li:\n",
    "    if i == 0:\n",
    "        print('not pangram')\n",
    "        break\n",
    "else:\n",
    "    print('pangram')"
   ]
  },
  {
   "cell_type": "code",
   "execution_count": 9,
   "metadata": {},
   "outputs": [
    {
     "name": "stdout",
     "output_type": "stream",
     "text": [
      "wel\n",
      "{'w': 1, 'e': 1, 'l': 1}\n"
     ]
    }
   ],
   "source": [
    "s = input()\n",
    "d = {}\n",
    "for i in s:\n",
    "    d[i] = d.get(i,0) + 1\n",
    "print(d)"
   ]
  },
  {
   "cell_type": "code",
   "execution_count": 10,
   "metadata": {},
   "outputs": [
    {
     "name": "stdout",
     "output_type": "stream",
     "text": [
      "wel\n",
      "Counter({'w': 1, 'e': 1, 'l': 1})\n",
      "{'w': 1, 'e': 1, 'l': 1}\n"
     ]
    }
   ],
   "source": [
    "import collections\n",
    "s = input()\n",
    "print(collections.Counter(s))\n",
    "print(dict(collections.Counter(s)))"
   ]
  },
  {
   "cell_type": "code",
   "execution_count": 11,
   "metadata": {},
   "outputs": [
    {
     "name": "stdout",
     "output_type": "stream",
     "text": [
      "wel\n",
      "not pangram\n"
     ]
    }
   ],
   "source": [
    "import string\n",
    "s = set(input().lower())\n",
    "alpha = set(string.ascii_lowercase)\n",
    "if alpha <= s:\n",
    "    print('pangram')\n",
    "else:\n",
    "    print('not pangram')"
   ]
  },
  {
   "cell_type": "code",
   "execution_count": 12,
   "metadata": {},
   "outputs": [],
   "source": [
    "# max length of identifier -- no restriction (general convention is 79)"
   ]
  },
  {
   "cell_type": "code",
   "execution_count": 13,
   "metadata": {},
   "outputs": [
    {
     "name": "stdout",
     "output_type": "stream",
     "text": [
      "enter a string: wel\n",
      "wel\n"
     ]
    }
   ],
   "source": [
    "# string compression\n",
    "s = input('enter a string: ')\n",
    "for i in range(len(s)-1):\n",
    "    if s[i]==s[i+1]:\n",
    "        print(end=\"\")\n",
    "    else:\n",
    "        print(s[i],end = \"\")\n",
    "print(s[-1])"
   ]
  },
  {
   "cell_type": "code",
   "execution_count": 14,
   "metadata": {},
   "outputs": [
    {
     "name": "stdout",
     "output_type": "stream",
     "text": [
      "[1, 2, 3, 4]\n",
      "{4: 11, 3: 10, 2: 12, 1: 13}\n"
     ]
    }
   ],
   "source": [
    "# sorting a dictionary\n",
    "import operator\n",
    "d = {2: 12, 1:13, 4: 11, 3:10}\n",
    "print(sorted(d))\n",
    "# to sort acccording to key use 0 and value use 1\n",
    "print(dict(sorted(d.items(),key = operator.itemgetter(0), reverse = True)))"
   ]
  },
  {
   "cell_type": "code",
   "execution_count": 15,
   "metadata": {},
   "outputs": [
    {
     "name": "stdout",
     "output_type": "stream",
     "text": [
      "[1, 2, 3, 4, 5, 6]\n",
      "[1, 2, 3, 4, 5, 6, 7, 8, 9]\n",
      "[10, 1, 2, 3, 4, 5, 6, 7, 8, 9]\n"
     ]
    }
   ],
   "source": [
    "l = [1,2,3]\n",
    "l.extend([4,5,6])\n",
    "print(l)\n",
    "# without using append or extend\n",
    "l[len(l):] = [7,8,9]\n",
    "print(l)\n",
    "# to add in beginning\n",
    "l[:0] = [10]\n",
    "print(l)"
   ]
  },
  {
   "cell_type": "code",
   "execution_count": 16,
   "metadata": {},
   "outputs": [
    {
     "name": "stdout",
     "output_type": "stream",
     "text": [
      "1712537593416 1712537593416\n"
     ]
    }
   ],
   "source": [
    "l = [1,2,3]\n",
    "k = l\n",
    "print(id(l),id(k))\n",
    "# same memory location"
   ]
  },
  {
   "cell_type": "code",
   "execution_count": 17,
   "metadata": {},
   "outputs": [
    {
     "name": "stdout",
     "output_type": "stream",
     "text": [
      "10\n"
     ]
    }
   ],
   "source": [
    "x = 10\n",
    "print(locals()['x'])"
   ]
  },
  {
   "cell_type": "code",
   "execution_count": 18,
   "metadata": {},
   "outputs": [
    {
     "name": "stdout",
     "output_type": "stream",
     "text": [
      "\n",
      "*\n",
      "**\n",
      "***\n",
      "****\n",
      "****\n",
      "***\n",
      "**\n",
      "*\n"
     ]
    }
   ],
   "source": [
    "for i in range(5):\n",
    "    print('*'*i)\n",
    "    \n",
    "for i in range(4,0,-1):\n",
    "    print('*'*i)\n",
    "    "
   ]
  },
  {
   "cell_type": "code",
   "execution_count": 19,
   "metadata": {},
   "outputs": [
    {
     "name": "stdout",
     "output_type": "stream",
     "text": [
      "5\n",
      "1   5\n",
      " 2 4 \n",
      "  3  \n"
     ]
    }
   ],
   "source": [
    "n = int(input())\n",
    "for i in range(1,n//2+2):\n",
    "    for j in range(1,n+1):\n",
    "        if i==j or j==n-i+1:\n",
    "            print(j,end = \"\")\n",
    "        else:\n",
    "            print(\" \",end = \"\")\n",
    "    print()"
   ]
  },
  {
   "cell_type": "code",
   "execution_count": 20,
   "metadata": {},
   "outputs": [
    {
     "name": "stdout",
     "output_type": "stream",
     "text": [
      "20\n",
      "10\n"
     ]
    }
   ],
   "source": [
    "def fun(a):\n",
    "    a+=10\n",
    "    print(a)\n",
    "    return\n",
    "x = 10\n",
    "fun(x)\n",
    "print(x)\n",
    "# changes in formal argument are not reflected to actual parameter so this is call be value"
   ]
  },
  {
   "cell_type": "code",
   "execution_count": 21,
   "metadata": {},
   "outputs": [
    {
     "name": "stdout",
     "output_type": "stream",
     "text": [
      "[1, 2, 3, 4]\n",
      "[1, 2, 3, 4]\n"
     ]
    }
   ],
   "source": [
    "def fun(k):\n",
    "    k.append(4)\n",
    "    print(k)\n",
    "    return\n",
    "l = [1,2,3]\n",
    "fun(l)\n",
    "print(l)\n",
    "# now it is call be reference"
   ]
  },
  {
   "cell_type": "code",
   "execution_count": 22,
   "metadata": {},
   "outputs": [
    {
     "name": "stdout",
     "output_type": "stream",
     "text": [
      "140723722101424\n",
      "140723722101744\n",
      "140723722101424\n"
     ]
    }
   ],
   "source": [
    "def fun(a):\n",
    "    print(id(a))\n",
    "    a+=10\n",
    "    print(id(a))\n",
    "    return\n",
    "x = 10\n",
    "fun(x)\n",
    "print(id(x))\n",
    "# it is always call by reference it depends on type of argument you are passing(mutable or immutable), int is mutable and list are not"
   ]
  },
  {
   "cell_type": "code",
   "execution_count": 23,
   "metadata": {},
   "outputs": [
    {
     "name": "stdout",
     "output_type": "stream",
     "text": [
      "100\n"
     ]
    }
   ],
   "source": [
    "def add(a,*b):\n",
    "    num = a\n",
    "    for i in b:\n",
    "        num += i\n",
    "    print(num)\n",
    "    return\n",
    "add(10,20,30,40)"
   ]
  },
  {
   "cell_type": "code",
   "execution_count": 24,
   "metadata": {},
   "outputs": [
    {
     "name": "stdout",
     "output_type": "stream",
     "text": [
      "harsh {'roll': 55, 'mark': 87, 'city': 'mumbai'}\n"
     ]
    }
   ],
   "source": [
    "def stud(name,**det):\n",
    "    print(name,det)\n",
    "    return\n",
    "stud('harsh',roll = 55,mark = 87,city = 'mumbai')"
   ]
  },
  {
   "cell_type": "code",
   "execution_count": 25,
   "metadata": {},
   "outputs": [
    {
     "name": "stdout",
     "output_type": "stream",
     "text": [
      "5\n",
      "120\n"
     ]
    }
   ],
   "source": [
    "import math\n",
    "n = int(input())\n",
    "print(math.factorial(n))\n"
   ]
  },
  {
   "cell_type": "code",
   "execution_count": 26,
   "metadata": {},
   "outputs": [
    {
     "name": "stdout",
     "output_type": "stream",
     "text": [
      "5\n",
      "3\n"
     ]
    }
   ],
   "source": [
    "# log(n!) base 10 = log(n*n-1*n-2*.....2*1) = log(n)+log(n-1)+.....log(1) = 1 less than number of digits in factorial of n\n",
    "import math\n",
    "n = int(input())\n",
    "sum = 0.0\n",
    "for i in range(1,n+1):\n",
    "    sum += math.log10(i)\n",
    "print(math.ceil(sum))"
   ]
  },
  {
   "cell_type": "code",
   "execution_count": 27,
   "metadata": {},
   "outputs": [
    {
     "name": "stdout",
     "output_type": "stream",
     "text": [
      "[1, 3, 4, 5, 6, 7, 8, 9]\n",
      "[1, 5, 3, 6, 8, 4, 9, 7]\n"
     ]
    }
   ],
   "source": [
    "l = [1,5,3,6,8,6,4,9,1,3,7,8]\n",
    "# remove duplicates\n",
    "print(list(set(l)))\n",
    "# to maintain order\n",
    "x = []\n",
    "for i in l:\n",
    "    if i not in x:\n",
    "        x.append(i)\n",
    "print(x)"
   ]
  },
  {
   "cell_type": "code",
   "execution_count": 28,
   "metadata": {},
   "outputs": [],
   "source": [
    "l = [1,2,3,4]\n",
    "# all possible sublist"
   ]
  },
  {
   "cell_type": "code",
   "execution_count": 29,
   "metadata": {},
   "outputs": [
    {
     "name": "stdout",
     "output_type": "stream",
     "text": [
      "10\n"
     ]
    }
   ],
   "source": [
    "def outer(a):\n",
    "    def inner(b):\n",
    "        nonlocal a\n",
    "        a+=1\n",
    "        print(a+b)\n",
    "    return inner\n",
    "f = outer(5)\n",
    "f(4)\n",
    "# this is called closure in python"
   ]
  },
  {
   "cell_type": "code",
   "execution_count": 30,
   "metadata": {},
   "outputs": [
    {
     "name": "stdout",
     "output_type": "stream",
     "text": [
      "[2, 4, 6, 8]\n"
     ]
    }
   ],
   "source": [
    "# def fun(a):\n",
    "#     return a%2 == 0\n",
    "l = [1,2,3,4,5,6,7,8]\n",
    "print(list(filter(lambda a:a%2==0,l)))"
   ]
  },
  {
   "cell_type": "code",
   "execution_count": 31,
   "metadata": {},
   "outputs": [
    {
     "name": "stdout",
     "output_type": "stream",
     "text": [
      "[2, 4, 6, 8]\n"
     ]
    }
   ],
   "source": [
    "l = [1,2,3,4,5,6,7,8,9]\n",
    "print([i for i in l if i%2 == 0])"
   ]
  },
  {
   "cell_type": "code",
   "execution_count": 32,
   "metadata": {},
   "outputs": [
    {
     "name": "stdout",
     "output_type": "stream",
     "text": [
      "[2, 4, 6, 8, 10, 12, 14, 16]\n",
      "[2, 4, 6, 8, 10, 12, 14, 16]\n"
     ]
    }
   ],
   "source": [
    "l = [1,2,3,4,5,6,7,8]\n",
    "print(list(map(lambda a:a*2,l)))\n",
    "print([i*2 for i in l])"
   ]
  },
  {
   "cell_type": "code",
   "execution_count": 33,
   "metadata": {},
   "outputs": [
    {
     "ename": "TypeError",
     "evalue": "'float' object is not callable",
     "output_type": "error",
     "traceback": [
      "\u001b[1;31m---------------------------------------------------------------------------\u001b[0m",
      "\u001b[1;31mTypeError\u001b[0m                                 Traceback (most recent call last)",
      "\u001b[1;32m<ipython-input-33-120f4f15a616>\u001b[0m in \u001b[0;36m<module>\u001b[1;34m\u001b[0m\n\u001b[0;32m      1\u001b[0m \u001b[1;32mimport\u001b[0m \u001b[0mfunctools\u001b[0m\u001b[1;33m\u001b[0m\u001b[1;33m\u001b[0m\u001b[0m\n\u001b[0;32m      2\u001b[0m \u001b[0ml\u001b[0m \u001b[1;33m=\u001b[0m \u001b[1;33m[\u001b[0m\u001b[1;36m1\u001b[0m\u001b[1;33m,\u001b[0m\u001b[1;36m2\u001b[0m\u001b[1;33m,\u001b[0m\u001b[1;36m3\u001b[0m\u001b[1;33m,\u001b[0m\u001b[1;36m4\u001b[0m\u001b[1;33m,\u001b[0m\u001b[1;36m5\u001b[0m\u001b[1;33m,\u001b[0m\u001b[1;36m6\u001b[0m\u001b[1;33m,\u001b[0m\u001b[1;36m7\u001b[0m\u001b[1;33m,\u001b[0m\u001b[1;36m8\u001b[0m\u001b[1;33m,\u001b[0m\u001b[1;36m9\u001b[0m\u001b[1;33m]\u001b[0m\u001b[1;33m\u001b[0m\u001b[1;33m\u001b[0m\u001b[0m\n\u001b[1;32m----> 3\u001b[1;33m \u001b[0mprint\u001b[0m\u001b[1;33m(\u001b[0m\u001b[0msum\u001b[0m\u001b[1;33m(\u001b[0m\u001b[0ml\u001b[0m\u001b[1;33m)\u001b[0m\u001b[1;33m)\u001b[0m\u001b[1;33m\u001b[0m\u001b[1;33m\u001b[0m\u001b[0m\n\u001b[0m\u001b[0;32m      4\u001b[0m \u001b[0mprint\u001b[0m\u001b[1;33m(\u001b[0m\u001b[0mfunctools\u001b[0m\u001b[1;33m.\u001b[0m\u001b[0mreduce\u001b[0m\u001b[1;33m(\u001b[0m\u001b[1;32mlambda\u001b[0m \u001b[0ma\u001b[0m\u001b[1;33m,\u001b[0m \u001b[0mb\u001b[0m\u001b[1;33m:\u001b[0m\u001b[0ma\u001b[0m\u001b[1;33m*\u001b[0m\u001b[0mb\u001b[0m\u001b[1;33m,\u001b[0m\u001b[0ml\u001b[0m\u001b[1;33m)\u001b[0m\u001b[1;33m)\u001b[0m\u001b[1;33m\u001b[0m\u001b[1;33m\u001b[0m\u001b[0m\n",
      "\u001b[1;31mTypeError\u001b[0m: 'float' object is not callable"
     ]
    }
   ],
   "source": [
    "import functools\n",
    "l = [1,2,3,4,5,6,7,8,9]\n",
    "print(sum(l))\n",
    "print(functools.reduce(lambda a, b:a*b,l))"
   ]
  },
  {
   "cell_type": "code",
   "execution_count": null,
   "metadata": {},
   "outputs": [],
   "source": []
  }
 ],
 "metadata": {
  "kernelspec": {
   "display_name": "Python 3",
   "language": "python",
   "name": "python3"
  },
  "language_info": {
   "codemirror_mode": {
    "name": "ipython",
    "version": 3
   },
   "file_extension": ".py",
   "mimetype": "text/x-python",
   "name": "python",
   "nbconvert_exporter": "python",
   "pygments_lexer": "ipython3",
   "version": "3.7.6"
  }
 },
 "nbformat": 4,
 "nbformat_minor": 4
}
